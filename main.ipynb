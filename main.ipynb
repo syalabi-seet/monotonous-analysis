{
 "cells": [
  {
   "cell_type": "code",
   "execution_count": 1,
   "metadata": {},
   "outputs": [
    {
     "name": "stdout",
     "output_type": "stream",
     "text": [
      "region: ap-southeast-1\n",
      "processing_repo: 183640780274.dkr.ecr.ap-southeast-1.amazonaws.com/monotone-inference:latest\n"
     ]
    }
   ],
   "source": [
    "import boto3\n",
    "\n",
    "# Inference variables\n",
    "bucket_name = 'audiosnippet-bucket'\n",
    "\n",
    "# AWS CLI arguments\n",
    "account_id = boto3.client('sts').get_caller_identity().get('Account')\n",
    "region = boto3.Session().region_name\n",
    "ecr_repo = 'monotone-inference'\n",
    "tag = ':latest'\n",
    "processing_repo_uri = f'{account_id}.dkr.ecr.{region}.amazonaws.com/{ecr_repo + tag}'\n",
    "\n",
    "print('region:', region)\n",
    "print('processing_repo:', processing_repo_uri)"
   ]
  },
  {
   "cell_type": "code",
   "execution_count": 2,
   "metadata": {},
   "outputs": [],
   "source": [
    "# # Dockerfile for cloud v1\n",
    "# FROM nvcr.io/nvidia/tensorrt:21.03-py3\n",
    "\n",
    "# RUN apt-get update && apt install -y \\\n",
    "#     nvidia-utils-450 \\\n",
    "#     ubuntu-drivers-common\n",
    "\n",
    "# RUN apt update && \\\n",
    "#     apt-get install -y \\\n",
    "#     libsndfile1 \\ \n",
    "#     libpq-dev gcc\n",
    "\n",
    "# COPY requirements.txt requirements.txt\n",
    "\n",
    "# RUN pip3 install -r requirements.txt\n",
    "\n",
    "# LABEL maintainer=\"Xaltius\"\n",
    "\n",
    "# ENV PYTHONUNBUFFERED=TRUE\n",
    "\n",
    "# ENV TOKENIZERS_PARALLELISM=false\n",
    "\n",
    "# RUN mkdir -p /opt/ml/processing/inputs\n",
    "# RUN mkdir -p /opt/ml/processing/models\n",
    "# RUN mkdir -p /opt/ml/processing/logs\n",
    "# RUN mkdir -p /opt/ml/processing/snippets\n",
    "\n",
    "# COPY . /usr/src/app"
   ]
  },
  {
   "cell_type": "code",
   "execution_count": 3,
   "metadata": {},
   "outputs": [],
   "source": [
    "# numpy==1.19.5\n",
    "# tensorflow\n",
    "# soundfile\n",
    "# librosa\n",
    "# boto3\n",
    "# psycopg2-binary"
   ]
  },
  {
   "cell_type": "code",
   "execution_count": 4,
   "metadata": {},
   "outputs": [],
   "source": [
    "# Create ECR repo and push docker image\n",
    "!docker build --no-cache -t $processing_repo_uri docker\n",
    "!aws ecr get-login-password --region {region} | docker login --username AWS --password-stdin {account_id}.dkr.ecr.{region}.amazonaws.com\n",
    "# !aws ecr create-repository --repository-name $ecr_repo\n",
    "!docker push $processing_repo_uri\n",
    "!docker image rm $processing_repo_uri"
   ]
  }
 ],
 "metadata": {
  "interpreter": {
   "hash": "b851d2923cfa3a2562599062e05fd9893d86a7c009c64d8ad3756552e4dd5f41"
  },
  "kernelspec": {
   "display_name": "Python 3.7.11 64-bit ('tf-gpu': conda)",
   "name": "python3"
  },
  "language_info": {
   "codemirror_mode": {
    "name": "ipython",
    "version": 3
   },
   "file_extension": ".py",
   "mimetype": "text/x-python",
   "name": "python",
   "nbconvert_exporter": "python",
   "pygments_lexer": "ipython3",
   "version": "3.7.11"
  },
  "orig_nbformat": 4
 },
 "nbformat": 4,
 "nbformat_minor": 2
}
